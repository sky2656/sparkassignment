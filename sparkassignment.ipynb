{
 "cells": [
  {
   "cell_type": "markdown",
   "id": "b9dc8a90-6ed7-4ab3-95c9-1b1acbcf9104",
   "metadata": {},
   "source": [
    "                           Part 1: Data Exploration with Apache Spark"
   ]
  },
  {
   "cell_type": "markdown",
   "id": "73d6d5c8-4679-467c-b5e9-e7cab398b598",
   "metadata": {},
   "source": [
    "1.\tData Loading and Schema Understanding "
   ]
  },
  {
   "cell_type": "markdown",
   "id": "803810ba-400f-49d8-ac61-02f3500f63f3",
   "metadata": {},
   "source": [
    "a) Load the dataset into a Spark Data Frame"
   ]
  },
  {
   "cell_type": "code",
   "execution_count": 1,
   "id": "63ae7107-b323-41c1-bd88-e773d97886f9",
   "metadata": {},
   "outputs": [
    {
     "name": "stderr",
     "output_type": "stream",
     "text": [
      "Setting default log level to \"WARN\".\n",
      "To adjust logging level use sc.setLogLevel(newLevel). For SparkR, use setLogLevel(newLevel).\n",
      "23/12/03 19:32:00 INFO SparkEnv: Registering MapOutputTracker\n",
      "23/12/03 19:32:00 INFO SparkEnv: Registering BlockManagerMaster\n",
      "23/12/03 19:32:00 INFO SparkEnv: Registering BlockManagerMasterHeartbeat\n",
      "23/12/03 19:32:00 INFO SparkEnv: Registering OutputCommitCoordinator\n"
     ]
    }
   ],
   "source": [
    "# Starting sparksession\n",
    "from pyspark.sql import SparkSession\n",
    "spark = SparkSession.builder.appName(\"spark-spotifymusicdata\").getOrCreate()"
   ]
  },
  {
   "cell_type": "code",
   "execution_count": 2,
   "id": "8e2e7741-8697-46db-b873-c48c5ba0328d",
   "metadata": {},
   "outputs": [
    {
     "name": "stderr",
     "output_type": "stream",
     "text": [
      "                                                                                \r"
     ]
    }
   ],
   "source": [
    "#Loading the data:\n",
    "\n",
    "path = 'gs://sparkassignmentstorage/spotify_songs.csv'\n",
    "file_type = \"csv\"\n",
    "\n",
    "#CSV\n",
    "infer_schema = 'true'\n",
    "first_row_is_header = 'true'\n",
    "delimiter = ','\n",
    "\n",
    "\n",
    "#Import csv\n",
    "\n",
    "df = spark.read.format(file_type)\\\n",
    "    .option(\"inferSchema\",infer_schema)\\\n",
    "    .option(\"header\", first_row_is_header) \\\n",
    "    .option(\"sep\", delimiter)\\\n",
    "    .load(path)"
   ]
  },
  {
   "cell_type": "code",
   "execution_count": 3,
   "id": "f12737a9-ee07-4f69-947e-0a878561877a",
   "metadata": {},
   "outputs": [
    {
     "name": "stderr",
     "output_type": "stream",
     "text": [
      "                                                                                \r"
     ]
    },
    {
     "name": "stdout",
     "output_type": "stream",
     "text": [
      "Total number of rows: 32833\n",
      "Total number of column: 32833\n"
     ]
    }
   ],
   "source": [
    "#Verify if the data is loaded--sanity check\n",
    "total_rows = df.count()\n",
    "print(\"Total number of rows:\", total_rows)\n",
    "total_column = df.count()\n",
    "print(\"Total number of column:\", total_column)"
   ]
  },
  {
   "cell_type": "markdown",
   "id": "c541ac4d-c801-4dc3-a420-cc6188230cab",
   "metadata": {},
   "source": [
    "Part 2: b) Print the schema and verify the data types of each column"
   ]
  },
  {
   "cell_type": "code",
   "execution_count": 4,
   "id": "25494002-8f95-4b67-ae28-8409ea22f143",
   "metadata": {},
   "outputs": [
    {
     "name": "stdout",
     "output_type": "stream",
     "text": [
      "root\n",
      " |-- track_id: string (nullable = true)\n",
      " |-- track_name: string (nullable = true)\n",
      " |-- track_artist: string (nullable = true)\n",
      " |-- track_popularity: integer (nullable = true)\n",
      " |-- track_album_id: string (nullable = true)\n",
      " |-- track_album_name: string (nullable = true)\n",
      " |-- track_album_release_date: string (nullable = true)\n",
      " |-- playlist_name: string (nullable = true)\n",
      " |-- playlist_id: string (nullable = true)\n",
      " |-- playlist_genre: string (nullable = true)\n",
      " |-- playlist_subgenre: string (nullable = true)\n",
      " |-- danceability: string (nullable = true)\n",
      " |-- energy: string (nullable = true)\n",
      " |-- key: string (nullable = true)\n",
      " |-- loudness: string (nullable = true)\n",
      " |-- mode: string (nullable = true)\n",
      " |-- speechiness: double (nullable = true)\n",
      " |-- acousticness: double (nullable = true)\n",
      " |-- instrumentalness: double (nullable = true)\n",
      " |-- liveness: double (nullable = true)\n",
      " |-- valence: double (nullable = true)\n",
      " |-- tempo: double (nullable = true)\n",
      " |-- duration_ms: double (nullable = true)\n",
      "\n"
     ]
    }
   ],
   "source": [
    "df.printSchema()"
   ]
  },
  {
   "cell_type": "markdown",
   "id": "6f10cd12-dfef-4133-b30e-f97a522d4427",
   "metadata": {},
   "source": [
    "2.\tData Aggregation "
   ]
  },
  {
   "cell_type": "code",
   "execution_count": null,
   "id": "f5586853-d487-4e3b-a1cf-2a2815a22614",
   "metadata": {},
   "outputs": [],
   "source": [
    "a) Calculate the average danceability, energy, and tempo of tracks by artist: "
   ]
  },
  {
   "cell_type": "code",
   "execution_count": 6,
   "id": "b40b559b-0e59-4e39-b1be-932f05c0cc5e",
   "metadata": {},
   "outputs": [
    {
     "name": "stderr",
     "output_type": "stream",
     "text": [
      "[Stage 8:=============================>                             (1 + 1) / 2]\r"
     ]
    },
    {
     "name": "stdout",
     "output_type": "stream",
     "text": [
      "+---------------+-------------------+------------------+------------------+\n",
      "|   track_artist|   avg_danceability|        avg_energy|         avg_tempo|\n",
      "+---------------+-------------------+------------------+------------------+\n",
      "|      Lil Nas X| 0.7744999999999999| 0.618590909090909|145.49290909090908|\n",
      "|   INTERSECTION| 0.6513333333333334|0.7153333333333333|           110.282|\n",
      "|       CHUNG HA|             0.6915|0.8160000000000001|          117.4565|\n",
      "|      Henri PFR|              0.688|             0.693|           114.051|\n",
      "|         *NSYNC|              0.581|0.8040000000000002|           132.168|\n",
      "|      TheLavish|              0.699|             0.803|           106.025|\n",
      "|         Grimes|             0.5555|0.7853333333333333| 141.9238333333333|\n",
      "|     Eurythmics|  0.668142857142857|0.7522857142857143|126.45485714285714|\n",
      "|   Shawn Desman|              0.767|             0.633|           120.031|\n",
      "|     Snoop Dogg| 0.7402777777777779|0.7422500000000002| 98.20511111111111|\n",
      "|     Chromatics|              0.622|0.5306666666666667|108.08133333333332|\n",
      "|         IOLITE|              0.544|             0.679|           118.907|\n",
      "|Little Big Town|               0.53|             0.768|           143.902|\n",
      "|   Eden Project|              0.262|             0.458|           145.353|\n",
      "| The Black Keys|0.49420000000000003|            0.7058|          128.3704|\n",
      "|   Faye Webster|              0.723|              0.43|            129.59|\n",
      "|            H.1|              0.573|             0.177|           130.187|\n",
      "|         Arbour|              0.621|             0.157|            74.992|\n",
      "|         DJ Taz|              0.827|             0.678|            135.09|\n",
      "|      Big Pokey|              0.702|            0.6505|127.09324999999998|\n",
      "+---------------+-------------------+------------------+------------------+\n",
      "only showing top 20 rows\n",
      "\n"
     ]
    },
    {
     "name": "stderr",
     "output_type": "stream",
     "text": [
      "                                                                                \r"
     ]
    }
   ],
   "source": [
    "# importing avg from pyspark sql functions\n",
    "from pyspark.sql.functions import avg\n",
    "\n",
    "# average danceability, energy, and tempo of tracks by artist\n",
    "average_by_artist = df.groupBy('track_artist').agg(\n",
    "    avg('danceability').alias('avg_danceability'),\n",
    "    avg('energy').alias('avg_energy'),\n",
    "    avg('tempo').alias('avg_tempo')\n",
    ")\n",
    "\n",
    "average_by_artist.show()"
   ]
  },
  {
   "cell_type": "markdown",
   "id": "771ccb01-0e16-4b8d-b23c-e47c0a801936",
   "metadata": {},
   "source": [
    "b) Identify the top 5 artists with the highest average track popularity: "
   ]
  },
  {
   "cell_type": "code",
   "execution_count": 7,
   "id": "3ede1c16-81d3-408d-9191-7991dcb24d56",
   "metadata": {},
   "outputs": [
    {
     "name": "stderr",
     "output_type": "stream",
     "text": [
      "[Stage 11:>                                                         (0 + 2) / 2]\r"
     ]
    },
    {
     "name": "stdout",
     "output_type": "stream",
     "text": [
      "+-------------+-----------------+\n",
      "| track_artist|   avg_popularity|\n",
      "+-------------+-----------------+\n",
      "|Trevor Daniel|             97.0|\n",
      "|          Y2K|             91.0|\n",
      "|  Don Toliver|90.71428571428571|\n",
      "|  Roddy Ricch|88.21052631578948|\n",
      "|       DaBaby|87.85714285714286|\n",
      "+-------------+-----------------+\n",
      "\n"
     ]
    },
    {
     "name": "stderr",
     "output_type": "stream",
     "text": [
      "                                                                                \r"
     ]
    }
   ],
   "source": [
    "# Calculate average popularity by artist\n",
    "average_popularity_by_artist = df.groupBy('track_artist').agg(\n",
    "    avg('track_popularity').alias('avg_popularity')\n",
    ")\n",
    "\n",
    "# Identify the top 5 artists with the highest average track popularity\n",
    "top_artists = average_popularity_by_artist.orderBy('avg_popularity', ascending=False).limit(5)\n",
    "\n",
    "top_artists.show()"
   ]
  },
  {
   "cell_type": "markdown",
   "id": "0b79cea5-0814-4b7a-98b5-a0c26ba6e0ae",
   "metadata": {},
   "source": [
    "3.\tData Transformation "
   ]
  },
  {
   "cell_type": "markdown",
   "id": "3e51cc50-907f-4d32-babe-c227cb33818b",
   "metadata": {},
   "source": [
    "a) Create a new column called “energy_level” that classifies tracks as 'High Energy' (energy > 0.8) or 'Regular Energy' (energy ≤ 0.8):"
   ]
  },
  {
   "cell_type": "code",
   "execution_count": 8,
   "id": "b7e31660-3e72-4285-91a0-9314598e877d",
   "metadata": {},
   "outputs": [
    {
     "name": "stdout",
     "output_type": "stream",
     "text": [
      "+--------------------+--------------------+----------------+----------------+--------------+\n",
      "|            track_id|          track_name|    track_artist|track_popularity|  energy_level|\n",
      "+--------------------+--------------------+----------------+----------------+--------------+\n",
      "|6f807x0ima9a1j3VP...|I Don't Care (wit...|      Ed Sheeran|              66|   High Energy|\n",
      "|0r7CVbZTWZgbTCYdf...|Memories - Dillon...|        Maroon 5|              67|   High Energy|\n",
      "|1z1Hg7Vb0AhHDiEmn...|All the Time - Do...|    Zara Larsson|              70|   High Energy|\n",
      "|75FpbthrwQmzHlBJL...|Call You Mine - K...|The Chainsmokers|              60|   High Energy|\n",
      "|1e8PAfcKUYoKkxPhr...|Someone You Loved...|   Lewis Capaldi|              69|   High Energy|\n",
      "|7fvUMiyapMsRRxr07...|Beautiful People ...|      Ed Sheeran|              67|   High Energy|\n",
      "|2OAylPUDDfwRGfe0l...|Never Really Over...|      Katy Perry|              62|   High Energy|\n",
      "|6b1RNvAcJjQH73eZO...|Post Malone (feat...|       Sam Feldt|              69|   High Energy|\n",
      "|7bF6tCO3gFb8INrED...|Tough Love - Tiës...|          Avicii|              68|   High Energy|\n",
      "|1IXGILkPm0tOCNeq0...|If I Can't Have Y...|    Shawn Mendes|              67|   High Energy|\n",
      "|3eFJI470ALf1EYjyw...|Cross Me (feat. C...|      Ed Sheeran|              58|   High Energy|\n",
      "|3iJeF2izF1QcpCgUc...|Hate Me - R3HAB R...|  Ellie Goulding|              67|Regular Energy|\n",
      "|6e0CvGZf7CouOpYF8...|          Body On My|     Loud Luxury|              67|Regular Energy|\n",
      "|3eLdNmnRWr9gIyBcq...|SOS - Laidback Lu...|          Avicii|              68|   High Energy|\n",
      "|55nMnifaQWKe3f9cb...|Summer Days (feat...|   Martin Garrix|              63|Regular Energy|\n",
      "|1EJgymgJHcjSOGSHc...|South of the Bord...|      Ed Sheeran|              66|   High Energy|\n",
      "|5WaXMQMlQpq8pwIda...|All My Friends - ...|     AJ Mitchell|              60|   High Energy|\n",
      "|3TjLsDgL0bTbSQIF6...|Say My Name (feat...|    David Guetta|              65|Regular Energy|\n",
      "|0GfS3y8Jd7SHWd9R5...|Dancing With A St...|       Sam Smith|              69|Regular Energy|\n",
      "|2v3DuCVBbopteJqdM...|Let It Be Me - So...|      Steve Aoki|              35|   High Energy|\n",
      "+--------------------+--------------------+----------------+----------------+--------------+\n",
      "only showing top 20 rows\n",
      "\n"
     ]
    }
   ],
   "source": [
    "# importing when function from pyspark.sql.functions\n",
    "from pyspark.sql.functions import when, col\n",
    "\n",
    "# Create a new column 'energy_level' based on the 'energy' column\n",
    "df = df.withColumn(\n",
    "    'energy_level',\n",
    "    when(col('energy') > 0.8, 'High Energy').otherwise('Regular Energy')\n",
    ")\n",
    "# dispalying few columns with new energy level column created\n",
    "df.select('track_id','track_name','track_artist','track_popularity','energy_level').show()"
   ]
  },
  {
   "cell_type": "markdown",
   "id": "d3c271b1-b448-4cde-8385-286d18b2006f",
   "metadata": {},
   "source": [
    "b) Group the data by this new energy classification and calculate the average popularity and loudness for each energy_level:"
   ]
  },
  {
   "cell_type": "code",
   "execution_count": 9,
   "id": "8ae8ad17-f043-418b-99be-5ea351c682e8",
   "metadata": {},
   "outputs": [
    {
     "name": "stderr",
     "output_type": "stream",
     "text": [
      "[Stage 15:=============================>                            (1 + 1) / 2]\r"
     ]
    },
    {
     "name": "stdout",
     "output_type": "stream",
     "text": [
      "+--------------+-----------------+------------------+\n",
      "|  energy_level|   avg_popularity|      avg_loudness|\n",
      "+--------------+-----------------+------------------+\n",
      "|   High Energy|38.10813030385984|-4.875180217173095|\n",
      "|Regular Energy|44.66595044344884|-7.636742925067416|\n",
      "+--------------+-----------------+------------------+\n",
      "\n"
     ]
    },
    {
     "name": "stderr",
     "output_type": "stream",
     "text": [
      "                                                                                \r"
     ]
    }
   ],
   "source": [
    "# importing average function from pyspark.sql.functions\n",
    "from pyspark.sql.functions import avg\n",
    "\n",
    "# Group data by 'energy_level' and calculate average popularity and loudness\n",
    "energy_level_stats = df.groupBy('energy_level').agg(\n",
    "    avg('track_popularity').alias('avg_popularity'),\n",
    "    avg('loudness').alias('avg_loudness')\n",
    ")\n",
    "\n",
    "energy_level_stats.show()"
   ]
  },
  {
   "cell_type": "markdown",
   "id": "6af70a63-72fa-4990-9f10-23ab846f2091",
   "metadata": {},
   "source": [
    "4.\tData Exporting "
   ]
  },
  {
   "cell_type": "markdown",
   "id": "c9fc4662-70cc-4bdb-945d-7e9e2b75d8e7",
   "metadata": {},
   "source": [
    "a) Export the data that have been classified as 'High Energy':"
   ]
  },
  {
   "cell_type": "code",
   "execution_count": 10,
   "id": "50d1e3ee-68f6-40c7-b479-fafde312db04",
   "metadata": {},
   "outputs": [
    {
     "name": "stderr",
     "output_type": "stream",
     "text": [
      "                                                                                \r"
     ]
    }
   ],
   "source": [
    "# Filter data for 'High Energy'\n",
    "high_energy_data = df.filter(col('energy_level') == 'High Energy')\n",
    "\n",
    "# Specify the output path for 'High Energy' data in a cloud bucket\n",
    "output_path = 'gs://sparkassignmentstorage/high_energy_data.csv'\n",
    "\n",
    "# Write 'High Energy' data to a CSV file\n",
    "high_energy_data.write.csv(output_path, header=True, mode='overwrite')\n",
    "\n",
    "# Stop Spark gracefully\n",
    "spark.stop()"
   ]
  },
  {
   "cell_type": "code",
   "execution_count": null,
   "id": "dc12fc36-d086-4945-8762-35a12bdbbd65",
   "metadata": {},
   "outputs": [],
   "source": []
  }
 ],
 "metadata": {
  "kernelspec": {
   "display_name": "Python 3 (ipykernel)",
   "language": "python",
   "name": "python3"
  },
  "language_info": {
   "codemirror_mode": {
    "name": "ipython",
    "version": 3
   },
   "file_extension": ".py",
   "mimetype": "text/x-python",
   "name": "python",
   "nbconvert_exporter": "python",
   "pygments_lexer": "ipython3",
   "version": "3.11.4"
  }
 },
 "nbformat": 4,
 "nbformat_minor": 5
}
